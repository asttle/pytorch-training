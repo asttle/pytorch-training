{
  "nbformat": 4,
  "nbformat_minor": 0,
  "metadata": {
    "colab": {
      "provenance": []
    },
    "kernelspec": {
      "name": "python3",
      "display_name": "Python 3"
    },
    "language_info": {
      "name": "python"
    }
  },
  "cells": [
    {
      "cell_type": "markdown",
      "source": [
        "## Day 1 Pytorch Fundamentals"
      ],
      "metadata": {
        "id": "i8rYhT5LIaEG"
      }
    },
    {
      "cell_type": "code",
      "source": [
        "import torch\n",
        "print(torch.__version__)"
      ],
      "metadata": {
        "colab": {
          "base_uri": "https://localhost:8080/"
        },
        "id": "QDZ1vEICIqJr",
        "outputId": "e0c1a124-8fe9-4c2f-a2fb-aa867d71c2d4"
      },
      "execution_count": 1,
      "outputs": [
        {
          "output_type": "stream",
          "name": "stdout",
          "text": [
            "2.6.0+cu124\n"
          ]
        }
      ]
    },
    {
      "cell_type": "code",
      "execution_count": null,
      "metadata": {
        "colab": {
          "base_uri": "https://localhost:8080/"
        },
        "id": "H_1y4hfVHHne",
        "outputId": "d5f924e7-8d72-4100-a9c9-fd1318963a9f"
      },
      "outputs": [
        {
          "output_type": "stream",
          "name": "stdout",
          "text": [
            "Hello lets start learning pytorch\n"
          ]
        }
      ],
      "source": [
        "print('Hello lets start learning pytorch')"
      ]
    },
    {
      "cell_type": "markdown",
      "source": [
        "Creating tensors"
      ],
      "metadata": {
        "id": "9Rwbdp7LL57-"
      }
    },
    {
      "cell_type": "code",
      "source": [
        "#scalars\n",
        "scalar = torch.tensor(7)\n",
        "scalar.ndim"
      ],
      "metadata": {
        "colab": {
          "base_uri": "https://localhost:8080/"
        },
        "id": "TvTyZbg4M3RA",
        "outputId": "74117d19-c626-4e68-8a21-277fc4b13c6f"
      },
      "execution_count": null,
      "outputs": [
        {
          "output_type": "execute_result",
          "data": {
            "text/plain": [
              "0"
            ]
          },
          "metadata": {},
          "execution_count": 7
        }
      ]
    },
    {
      "cell_type": "code",
      "source": [
        "# Get tensor back as python int\n",
        "scalar.item()"
      ],
      "metadata": {
        "colab": {
          "base_uri": "https://localhost:8080/"
        },
        "id": "dif134wUM7vP",
        "outputId": "e00eef30-aae8-41dc-e19c-81533e738913"
      },
      "execution_count": null,
      "outputs": [
        {
          "output_type": "execute_result",
          "data": {
            "text/plain": [
              "7"
            ]
          },
          "metadata": {},
          "execution_count": 8
        }
      ]
    },
    {
      "cell_type": "code",
      "source": [
        "# Vector\n",
        "vector = torch.tensor([7,7])\n",
        "vector.ndim"
      ],
      "metadata": {
        "colab": {
          "base_uri": "https://localhost:8080/"
        },
        "id": "cyFBB_YRNWwl",
        "outputId": "38602407-3319-4e76-b3c8-5bcb2c8dfb4b"
      },
      "execution_count": null,
      "outputs": [
        {
          "output_type": "execute_result",
          "data": {
            "text/plain": [
              "1"
            ]
          },
          "metadata": {},
          "execution_count": 9
        }
      ]
    },
    {
      "cell_type": "code",
      "source": [
        "vector.shape"
      ],
      "metadata": {
        "colab": {
          "base_uri": "https://localhost:8080/"
        },
        "id": "074i9XUINDdV",
        "outputId": "91aa0bc5-8a77-4e8a-da40-62d590a5c8f3"
      },
      "execution_count": null,
      "outputs": [
        {
          "output_type": "execute_result",
          "data": {
            "text/plain": [
              "torch.Size([2])"
            ]
          },
          "metadata": {},
          "execution_count": 10
        }
      ]
    },
    {
      "cell_type": "code",
      "source": [
        "# Matrix\n",
        "matrix = torch.tensor([[7,8],[9,10]])\n",
        "matrix.ndim"
      ],
      "metadata": {
        "colab": {
          "base_uri": "https://localhost:8080/"
        },
        "id": "TNVclfkLNv_y",
        "outputId": "9781cd98-8b23-4173-b4a5-7ce6c4023b0f"
      },
      "execution_count": null,
      "outputs": [
        {
          "output_type": "execute_result",
          "data": {
            "text/plain": [
              "2"
            ]
          },
          "metadata": {},
          "execution_count": 11
        }
      ]
    },
    {
      "cell_type": "code",
      "source": [
        "matrix.shape"
      ],
      "metadata": {
        "colab": {
          "base_uri": "https://localhost:8080/"
        },
        "id": "IANasGBnN7pn",
        "outputId": "44a1b7d6-2aaf-453b-acfb-20ee9e9e1db3"
      },
      "execution_count": null,
      "outputs": [
        {
          "output_type": "execute_result",
          "data": {
            "text/plain": [
              "torch.Size([2, 2])"
            ]
          },
          "metadata": {},
          "execution_count": 12
        }
      ]
    },
    {
      "cell_type": "code",
      "source": [
        "#tensor\n",
        "tensor = torch.tensor([[[1,2,3],[3,4,5],[5,6,7]],[[1,2,3],[2,2,1],[3,3,4]]])\n",
        "tensor.ndim"
      ],
      "metadata": {
        "colab": {
          "base_uri": "https://localhost:8080/"
        },
        "id": "nZHq4lV9N-W1",
        "outputId": "24ee415d-4de9-451d-f890-7a76c897c578"
      },
      "execution_count": 3,
      "outputs": [
        {
          "output_type": "execute_result",
          "data": {
            "text/plain": [
              "3"
            ]
          },
          "metadata": {},
          "execution_count": 3
        }
      ]
    },
    {
      "cell_type": "code",
      "source": [
        "tensor.shape"
      ],
      "metadata": {
        "colab": {
          "base_uri": "https://localhost:8080/"
        },
        "id": "D5ymw0e4OSoY",
        "outputId": "bd9fa2c0-6a3a-4064-9ad4-1a3e435d30c2"
      },
      "execution_count": 4,
      "outputs": [
        {
          "output_type": "execute_result",
          "data": {
            "text/plain": [
              "torch.Size([2, 3, 3])"
            ]
          },
          "metadata": {},
          "execution_count": 4
        }
      ]
    },
    {
      "cell_type": "code",
      "source": [
        "#Random tensors - these are way to make deep nn learn starting with random and lookup data evaluate and again radomise loop\n",
        "random_tensor = torch.rand(3,4)\n",
        "print(random_tensor)\n",
        "print(random_tensor.ndim)\n",
        "print(tensor.dtype)"
      ],
      "metadata": {
        "id": "2S7hbN5gOTz_",
        "colab": {
          "base_uri": "https://localhost:8080/"
        },
        "outputId": "2981b8dc-6c10-4453-bbbe-bec9ea785f86"
      },
      "execution_count": 6,
      "outputs": [
        {
          "output_type": "stream",
          "name": "stdout",
          "text": [
            "tensor([[0.1602, 0.9814, 0.1207, 0.7159],\n",
            "        [0.2740, 0.3527, 0.8173, 0.3236],\n",
            "        [0.2910, 0.1815, 0.2323, 0.8420]])\n",
            "2\n",
            "torch.int64\n"
          ]
        }
      ]
    },
    {
      "cell_type": "code",
      "source": [
        "#zeros and ones\n",
        "zeros_tensor = torch.zeros(3,4)\n",
        "print(zeros_tensor)\n",
        "zeros_tensor.dtype"
      ],
      "metadata": {
        "id": "PC3PLjvGvCib",
        "colab": {
          "base_uri": "https://localhost:8080/"
        },
        "outputId": "80113c8b-502b-4e44-ccd2-8b82d708d0ce"
      },
      "execution_count": 9,
      "outputs": [
        {
          "output_type": "stream",
          "name": "stdout",
          "text": [
            "tensor([[0., 0., 0., 0.],\n",
            "        [0., 0., 0., 0.],\n",
            "        [0., 0., 0., 0.]])\n"
          ]
        },
        {
          "output_type": "execute_result",
          "data": {
            "text/plain": [
              "torch.float32"
            ]
          },
          "metadata": {},
          "execution_count": 9
        }
      ]
    },
    {
      "cell_type": "code",
      "source": [
        "# range of tensors and tensors like\n",
        "range_tensor = torch.arange(1,11, 1) # range is deprecated so use arange\n",
        "print(range_tensor)\n",
        "zeros_like = torch.zeros_like(range_tensor)\n",
        "print(zeros_like)"
      ],
      "metadata": {
        "colab": {
          "base_uri": "https://localhost:8080/"
        },
        "id": "Jc3XJu7eob2A",
        "outputId": "856c1fbb-f889-4544-cc28-ca302cf37d54"
      },
      "execution_count": 15,
      "outputs": [
        {
          "output_type": "stream",
          "name": "stdout",
          "text": [
            "tensor([ 1,  2,  3,  4,  5,  6,  7,  8,  9, 10])\n",
            "tensor([0, 0, 0, 0, 0, 0, 0, 0, 0, 0])\n"
          ]
        }
      ]
    },
    {
      "cell_type": "markdown",
      "source": [
        "Data types in tensors\n",
        "This is where a lot of errors will be faced when it comes to pytorcha nd deep learning\n",
        "1. tensors not in right datatype - if one tensor is float 32 and other is float16 we'll get errors\n",
        "2. tensors not in right device - if one tensor is in cuda and other in cpu\n",
        "3. tensors not in right shape - one is 8 and otehr is 10\n"
      ],
      "metadata": {
        "id": "vLMTxMQss0Rx"
      }
    },
    {
      "cell_type": "code",
      "source": [
        "# tensor datatypes\n",
        "# flat32 tensor\n",
        "float_32_tensor = torch.tensor([3.0,4.0,5.0], dtype=None) # even if we specify None torch will emit float 32\n",
        "print(float_32_tensor)\n",
        "float_16_tensor = torch.tensor([3.0,5.0,7.0], dtype=torch.float16)\n",
        "print(float_16_tensor)\n",
        "print(float_16_tensor.dtype)\n",
        "tensor_params = torch.tensor([1.0,2.0,3.0], dtype=None, device=None, requires_grad=False) # whether to track gradients with this tensor operation (requires_grad)\n"
      ],
      "metadata": {
        "colab": {
          "base_uri": "https://localhost:8080/"
        },
        "id": "dQvdDqluqfEe",
        "outputId": "ab2e0697-0d4b-499d-b84a-7aafa233fb87"
      },
      "execution_count": 17,
      "outputs": [
        {
          "output_type": "stream",
          "name": "stdout",
          "text": [
            "tensor([3., 4., 5.])\n",
            "tensor([3., 5., 7.], dtype=torch.float16)\n",
            "torch.float16\n"
          ]
        }
      ]
    },
    {
      "cell_type": "code",
      "source": [
        "# type conversion\n",
        "float32_tensor = torch.tensor([10,20], dtype=None)\n",
        "float16_tensor = float32_tensor.type(torch.float16)\n",
        "mul = float32_tensor * float16_tensor\n",
        "print(mul) # it works looks like our rule is wrong - we'll get errors if we are not in same datatype"
      ],
      "metadata": {
        "colab": {
          "base_uri": "https://localhost:8080/"
        },
        "id": "9_2_7QBetaDx",
        "outputId": "ed71729a-4246-4ec4-88ae-3635661dc82f"
      },
      "execution_count": 22,
      "outputs": [
        {
          "output_type": "stream",
          "name": "stdout",
          "text": [
            "tensor([100., 400.], dtype=torch.float16)\n"
          ]
        }
      ]
    }
  ]
}